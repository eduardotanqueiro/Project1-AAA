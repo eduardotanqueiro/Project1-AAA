{
 "cells": [
  {
   "cell_type": "markdown",
   "metadata": {},
   "source": [
    "# Advanced Machine Learning - Project 1"
   ]
  },
  {
   "cell_type": "markdown",
   "metadata": {},
   "source": [
    "## TODO\n",
    "- renaming vars\n",
    "- nan imputation \n",
    "- check how to pre-process features (How to encode categorical data?, How to scale continuous?)\n",
    "- read into hybrid Bayesian Networks? How to do?\n",
    "- train test split, do KFold?\n",
    "\n",
    "## Learning approach\n",
    "- (maybe feature selection)\n",
    "1. learn structure\n",
    "2. learn CPDs\n",
    "\n",
    "## Make predictions\n",
    "\n",
    "## Interpret"
   ]
  },
  {
   "cell_type": "code",
   "execution_count": 1,
   "metadata": {},
   "outputs": [],
   "source": [
    "# Imports\n",
    "\n",
    "# General\n",
    "import numpy as np\n",
    "import pandas as pd\n",
    "import matplotlib.pyplot as plt\n",
    "\n",
    "from collections import Counter\n",
    "\n",
    "# Data Upscaling or Downscaling\n",
    "from sklearn.model_selection import train_test_split\n",
    "import imblearn.over_sampling as over_sampling\n",
    "import imblearn.under_sampling as under_sampling\n",
    "\n",
    "# Bayesian network and estimators\n",
    "from pgmpy.models import BayesianModel\n",
    "from pgmpy.factors.discrete import TabularCPD\n",
    "\n",
    "from pgmpy.estimators import ParameterEstimator\n",
    "from pgmpy.estimators import MaximumLikelihoodEstimator\n",
    "from pgmpy.estimators import BayesianEstimator\n",
    "\n",
    "from pgmpy.estimators import BDeuScore, K2Score, BicScore\n",
    "from pgmpy.estimators import ExhaustiveSearch\n",
    "from pgmpy.estimators import HillClimbSearch\n",
    "\n"
   ]
  },
  {
   "cell_type": "markdown",
   "metadata": {},
   "source": [
    "## 1. Data import and cleaning"
   ]
  },
  {
   "cell_type": "code",
   "execution_count": null,
   "metadata": {},
   "outputs": [
    {
     "ename": "",
     "evalue": "",
     "output_type": "error",
     "traceback": [
      "\u001b[1;31mRunning cells with 'python-aml' requires the ipykernel package.\n",
      "\u001b[1;31mRun the following command to install 'ipykernel' into the Python environment. \n",
      "\u001b[1;31mCommand: '/Users/tildietrich/Library/CloudStorage/OneDrive-Personal/ulisboa/1-semester/advanced-ml/Project1-AAA/python-aml/bin/python -m pip install ipykernel -U --force-reinstall'"
     ]
    }
   ],
   "source": [
    "# Reading the dataset\n",
    "df = pd.read_csv(\"../CHD_dataset.csv\")\n",
    "\n",
    "df.head(20)"
   ]
  },
  {
   "cell_type": "code",
   "execution_count": null,
   "metadata": {},
   "outputs": [],
   "source": [
    "# Rename variables according to this convention\n",
    "# cat_{varname}: categorical variable\n",
    "# ord_{varname}: ordinal variable\n",
    "# cont_{varname}: continuous variable\n",
    "\n",
    "df.rename(columns={\n",
    "    'Sex': 'cat_assigned_sex',\n",
    "    'age': 'cont_age',\n",
    "    'education': 'ord_education',\n",
    "    'currentSmoker': 'cat_current_smoker',\n",
    "    'cigsPerDay': 'cont_cigs_per_day',\n",
    "    'BPMeds': 'cat_bp-medication',\n",
    "    'prevalentStroke': 'cat_prev_stroke',\n",
    "    'prevalentHyp': 'cat_prev_hypertense',\n",
    "    'diabetes': 'cat_diabetes',\n",
    "    'totCol': 'cont_total_colesterol',\n",
    "    'sysBP': 'cont_systolic_bp',\n",
    "    'diaBP': 'cont_diabolic_bp'\n",
    "\n",
    "}, inplace=True)"
   ]
  },
  {
   "cell_type": "code",
   "execution_count": 10,
   "metadata": {},
   "outputs": [
    {
     "name": "stdout",
     "output_type": "stream",
     "text": [
      "0.0\n",
      "1.0\n",
      "0.029615476474802963\n",
      "107.0\n",
      "696.0\n",
      "236.69952267303103\n",
      "40.0\n",
      "394.0\n",
      "81.96365524402907\n",
      "23.954334811344744\n"
     ]
    }
   ],
   "source": [
    "print( df[\"BPMeds\"].min())\n",
    "print( df[\"BPMeds\"].max())\n",
    "print( df[\"BPMeds\"].mean())\n",
    "\n",
    "print( df[\"totChol\"].min())\n",
    "print( df[\"totChol\"].max())\n",
    "print( df[\"totChol\"].mean())\n",
    "\n",
    "print( df[\"glucose\"].min())\n",
    "print( df[\"glucose\"].max())\n",
    "print( df[\"glucose\"].mean())\n",
    "print( df[\"glucose\"].std())"
   ]
  },
  {
   "cell_type": "code",
   "execution_count": null,
   "metadata": {},
   "outputs": [],
   "source": [
    "# NaN imputation\n",
    "\n",
    "# Checking for NaN\n",
    "# print(df.isnull().sum())\n",
    "\n",
    "# Deleting rows with multiple NaN values (in this case, it's none)\n",
    "df.dropna(thresh = 2, inplace=True)\n",
    "\n",
    "# Get the mean of cigs per day of smokers\n",
    "mean_cigs_per_day = df[ (df[\"currentSmoker\"] == \"Yes\") & ( df[\"cigsPerDay\"] > 0 ) ][\"cigsPerDay\"].mean(skipna=True)\n",
    "\n",
    "# Fill the NaN values of smokers with the mean, of non smokers with 0\n",
    "df.loc[ (df[\"cigsPerDay\"].isna()) & ( df[\"currentSmoker\"] == \"Yes\") , \"cigsPerDay\" ] =  mean_cigs_per_day\n",
    "df.loc[ (df[\"cigsPerDay\"].isna()) & ( df[\"currentSmoker\"] == \"No\"), \"cigsPerDay\" ] = 0\n",
    "\n",
    "# Print just to check if operation above was completed correctly\n",
    "# print(f'NaN in the dataset:\\n {df.isnull().sum()[\"cigsPerDay\"]}')\n",
    "\n",
    "\"\"\"\n",
    "TODO: Fill education\n",
    "\"\"\"\n",
    "# Get mean BMI for male and female\n",
    "mean_bmi_male = df.loc[ df[\"Sex\"] == \"male\", \"BMI\"].mean()\n",
    "mean_bmi_female = df.loc[ df[\"Sex\"] == \"female\", \"BMI\"].mean()\n",
    "\n",
    "# Fill NaN values\n",
    "df.loc[ ( df[\"Sex\"] == \"male\" ) & ( df[\"BMI\"].isna() ), \"BMI\"] = mean_bmi_male\n",
    "df.loc[ ( df[\"Sex\"] == \"female\" ) & ( df[\"BMI\"].isna() ), \"BMI\"] = mean_bmi_female\n",
    "\n",
    "\n",
    "# Get mean BPMeds\n",
    "mean_bpmeds_male = df.loc[ (df[\"BPMeds\"].notna()) & ( df[\"Sex\"] == \"male\"), \"BPMeds\"].mean()\n",
    "mean_bpmeds_female = df.loc[ (df[\"BPMeds\"].notna()) & (df[\"Sex\"] == \"female\"), \"BPMeds\"].mean()\n",
    "\n",
    "# Fill NaN values\n",
    "df.loc[ (df[\"Sex\"] == \"male\") & ( df[\"BPMeds\"].isna() ), \"BPMeds\"] = mean_bpmeds_male\n",
    "df.loc[ (df[\"Sex\"] == \"female\") & ( df[\"BPMeds\"].isna() ), \"BPMeds\"] = mean_bpmeds_female\n",
    "\n",
    "\n",
    "# Get mean totChol\n",
    "mean_totChol_male = df.loc[ (df[\"totChol\"].notna()) & (df[\"Sex\"] == \"male\"), \"totChol\"].mean()\n",
    "mean_totChol_female = df.loc[ (df[\"totChol\"].notna()) & (df[\"Sex\"] == \"female\"), \"totChol\"].mean()\n",
    "\n",
    "# Fill NaN values\n",
    "df.loc[ (df[\"Sex\"] == \"male\") & ( df[\"totChol\"].isna() ), \"totChol\"] = mean_totChol_male\n",
    "df.loc[ (df[\"Sex\"] == \"female\") & ( df[\"totChol\"].isna() ), \"totChol\"] = mean_totChol_female\n",
    "\n",
    "\n",
    "# Get mean glucose\n",
    "mean_glucose_male = df.loc[ (df[\"glucose\"].notna()) & (df[\"Sex\"] == \"male\"), \"glucose\"].mean()\n",
    "mean_glucose_female = df.loc[ (df[\"glucose\"].notna()) & (df[\"Sex\"] == \"female\"), \"glucose\"].mean()\n",
    "\n",
    "# Fill NaN values\n",
    "df.loc[ (df[\"Sex\"] == \"male\") & ( df[\"glucose\"].isna() ), \"glucose\"] = mean_glucose_male\n",
    "df.loc[ (df[\"Sex\"] == \"female\") & ( df[\"glucose\"].isna() ), \"glucose\"] = mean_glucose_female\n",
    "\n",
    "\n",
    "# Get mean heartRate\n",
    "mean_heartRate_male = df.loc[ (df[\"heartRate\"].notna()) & (df[\"Sex\"] == \"male\"), \"heartRate\"].mean()\n",
    "mean_heartRate_female = df.loc[ (df[\"heartRate\"].notna()) & (df[\"Sex\"] == \"female\"), \"heartRate\"].mean()\n",
    "\n",
    "# Fill NaN values\n",
    "df.loc[ (df[\"Sex\"] == \"male\") & ( df[\"heartRate\"].isna() ), \"heartRate\"] = mean_heartRate_male\n",
    "df.loc[ (df[\"Sex\"] == \"female\") & ( df[\"heartRate\"].isna() ), \"heartRate\"] = mean_heartRate_female\n",
    "\n",
    "\n",
    "# Education -> should we do clustering??  TODO: im not sure about using mean in this variable!!\n",
    "mean_education = df.loc[ df[\"education\"].notna(), \"education\"].mean()\n",
    "\n",
    "df.loc[ df[\"education\"].isna(), \"education\"] = mean_education\n",
    "\n",
    "# Checking if NaN are corrected \n",
    "# print(df.isnull().sum())"
   ]
  },
  {
   "cell_type": "code",
   "execution_count": null,
   "metadata": {},
   "outputs": [],
   "source": [
    "# Convert categorical data to numerical\n",
    "# Education -> converting to integers (categorical)\n",
    "\n",
    "# ?!??!?!?! not working for some reason, none of the methods under\n",
    "#df.loc[ : , \"education\" ] = df[\"education\"].astype('int32')\n",
    "# df.loc[:,\"education\"] = df[\"education\"].apply(lambda x: int(x))\n",
    "# print(df[\"education\"])\n"
   ]
  },
  {
   "cell_type": "code",
   "execution_count": null,
   "metadata": {},
   "outputs": [],
   "source": [
    "# Scaling"
   ]
  },
  {
   "cell_type": "code",
   "execution_count": null,
   "metadata": {},
   "outputs": [],
   "source": [
    "# Remove target variable from the dataset\n",
    "# Split into train and test data (scikit)"
   ]
  }
 ],
 "metadata": {
  "kernelspec": {
   "display_name": "Python 3.11.3 ('venv_AML': venv)",
   "language": "python",
   "name": "python3"
  },
  "language_info": {
   "codemirror_mode": {
    "name": "ipython",
    "version": 3
   },
   "file_extension": ".py",
   "mimetype": "text/x-python",
   "name": "python",
   "nbconvert_exporter": "python",
   "pygments_lexer": "ipython3",
   "version": "3.9.18"
  },
  "orig_nbformat": 4,
  "vscode": {
   "interpreter": {
    "hash": "4eafdcabcab5e2c8e72e52303a36ecfec0b86d7d5715287c3a25602a4657e616"
   }
  }
 },
 "nbformat": 4,
 "nbformat_minor": 2
}
